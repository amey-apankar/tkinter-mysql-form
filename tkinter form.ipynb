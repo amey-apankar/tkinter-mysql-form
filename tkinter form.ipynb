{
 "cells": [
  {
   "cell_type": "code",
   "execution_count": 9,
   "id": "750c213f-b208-4a90-86f4-53a059d6a15c",
   "metadata": {},
   "outputs": [
    {
     "name": "stdout",
     "output_type": "stream",
     "text": [
      "Data saved successfully!\n"
     ]
    }
   ],
   "source": [
    "import tkinter as tk\n",
    "from tkinter import messagebox\n",
    "import mysql.connector\n",
    "\n",
    "def connect_db():\n",
    "    try:\n",
    "        conn = mysql.connector.connect(\n",
    "            host=\"localhost\", \n",
    "            user=\"root\",       \n",
    "            password=\"protech\",      \n",
    "            database=\"form_data1\"  \n",
    "        )\n",
    "        return conn\n",
    "    except mysql.connector.Error as err:\n",
    "        messagebox.showerror(\"Database Error\", f\"Error: {err}\")\n",
    "        return None\n",
    "\n",
    "\n",
    "def submit_form(name, email, age,profession):\n",
    "    if name and email and age:\n",
    "   \n",
    "        conn = connect_db()\n",
    "        if conn:\n",
    "            cursor = conn.cursor()\n",
    "            cursor.execute(\"INSERT INTO users (name, email, age,profession) VALUES (%s, %s, %s,%s)\", (name, email, age,profession))\n",
    "            conn.commit()\n",
    "            conn.close()\n",
    "\n",
    "        \n",
    "            print(\"Data saved successfully!\")\n",
    "        else:\n",
    "            print(\"Database connection failed.\")\n",
    "    else:\n",
    "        print(\"All fields are required!\")\n",
    "\n",
    "\n",
    "def create_form():\n",
    "\n",
    "    root = tk.Tk()\n",
    "    root.title(\"User Form\")\n",
    "    root.geometry(\"300x250\")\n",
    "    tk.Label(root, text=\"Name\", fg=\"white\", bg=\"black\",font=(\"Arial\", 16, \"bold\")).grid(row=0, column=0, padx=10, pady=5)\n",
    "    tk.Label(root, text=\"Email\", fg=\"white\", bg=\"black\",font=(\"Arial\", 16, \"bold\")).grid(row=1, column=0, padx=10, pady=5)\n",
    "    tk.Label(root, text=\"Age\", fg=\"white\", bg=\"black\",font=(\"Arial\", 16, \"bold\")).grid(row=2, column=0, padx=10, pady=5)\n",
    "    tk.Label(root, text=\"profession\", fg=\"white\", bg=\"black\",font=(\"Arial\", 16, \"bold\")).grid(row=3, column=0, padx=10, pady=5)\n",
    "\n",
    "    name_entry = tk.Entry(root)\n",
    "    email_entry = tk.Entry(root)\n",
    "    age_entry = tk.Entry(root)\n",
    "    profession_entry = tk.Entry(root)\n",
    "\n",
    "    name_entry.grid(row=0, column=1)\n",
    "    email_entry.grid(row=1, column=1)\n",
    "    age_entry.grid(row=2, column=1)\n",
    "    profession_entry.grid(row=3, column=1)\n",
    "\n",
    "    def on_submit():\n",
    "        name = name_entry.get()\n",
    "        email = email_entry.get()\n",
    "        age = age_entry.get()\n",
    "        profession=profession_entry.get()\n",
    "        submit_form(name, email, age,profession)  \n",
    "        root.quit()\n",
    "\n",
    "    submit_button = tk.Button(root, text=\"Submit\", command=on_submit)\n",
    "    submit_button.grid(row=4, column=1, pady=10)\n",
    "\n",
    "    root.mainloop()\n",
    "create_form()"
   ]
  },
  {
   "cell_type": "code",
   "execution_count": null,
   "id": "8d97c155-a619-4a67-b00b-a1ddc150e685",
   "metadata": {},
   "outputs": [],
   "source": []
  }
 ],
 "metadata": {
  "kernelspec": {
   "display_name": "Python 3 (ipykernel)",
   "language": "python",
   "name": "python3"
  },
  "language_info": {
   "codemirror_mode": {
    "name": "ipython",
    "version": 3
   },
   "file_extension": ".py",
   "mimetype": "text/x-python",
   "name": "python",
   "nbconvert_exporter": "python",
   "pygments_lexer": "ipython3",
   "version": "3.8.2"
  }
 },
 "nbformat": 4,
 "nbformat_minor": 5
}
